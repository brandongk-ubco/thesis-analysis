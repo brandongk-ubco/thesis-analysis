{
 "cells": [
  {
   "cell_type": "code",
   "execution_count": 2,
   "metadata": {},
   "outputs": [],
   "source": [
    "import pandas as pd\n",
    "import seaborn as sns\n",
    "from matplotlib import pyplot as plt\n",
    "import os"
   ]
  },
  {
   "cell_type": "code",
   "execution_count": 3,
   "metadata": {},
   "outputs": [],
   "source": [
    "full_df = pd.read_csv(\"series_data.csv\", low_memory=False)\n",
    "image_output_directory = \"./images\"\n",
    "table_output_directory = \"./tables\"\n",
    "\n",
    "os.makedirs(image_output_directory, exist_ok=True)\n",
    "os.makedirs(table_output_directory, exist_ok=True)\n",
    "\n",
    "full_df.head()"
   ]
  },
  {
   "cell_type": "code",
   "execution_count": null,
   "metadata": {},
   "outputs": [],
   "source": [
    "def get_dataset(tags):\n",
    "    if \"DFire\" in tags:\n",
    "        return \"DFire\"\n",
    "    elif \"CityscapesFine\" in tags:\n",
    "        return \"Cityscapes\"\n",
    "    elif \"CIFAR10\" in tags:\n",
    "        return \"CIFAR10\"\n",
    "    else:\n",
    "        raise ValueError(f\"Unknown dataset: {tags}\")"
   ]
  },
  {
   "cell_type": "code",
   "execution_count": null,
   "metadata": {},
   "outputs": [],
   "source": [
    "def get_purpose(tags):\n",
    "    if \"Method\" in tags:\n",
    "        return \"Method\"\n",
    "    elif \"Baseline\" in tags:\n",
    "        return \"Baseline\"\n",
    "    elif \"Standard\" in tags:\n",
    "        return \"Standard\"\n",
    "    else:\n",
    "        raise ValueError(f\"Unknown method: {tags}\")"
   ]
  },
  {
   "cell_type": "code",
   "execution_count": null,
   "metadata": {},
   "outputs": [
    {
     "data": {
      "text/html": [
       "<div>\n",
       "<style scoped>\n",
       "    .dataframe tbody tr th:only-of-type {\n",
       "        vertical-align: middle;\n",
       "    }\n",
       "\n",
       "    .dataframe tbody tr th {\n",
       "        vertical-align: top;\n",
       "    }\n",
       "\n",
       "    .dataframe thead th {\n",
       "        text-align: right;\n",
       "    }\n",
       "</style>\n",
       "<table border=\"1\" class=\"dataframe\">\n",
       "  <thead>\n",
       "    <tr style=\"text-align: right;\">\n",
       "      <th></th>\n",
       "      <th>step</th>\n",
       "      <th>value</th>\n",
       "      <th>timestamp</th>\n",
       "      <th>namespace</th>\n",
       "      <th>metric</th>\n",
       "      <th>run_id</th>\n",
       "      <th>tags</th>\n",
       "      <th>alpha</th>\n",
       "      <th>control_on_realized</th>\n",
       "      <th>lr</th>\n",
       "      <th>lr_method</th>\n",
       "      <th>method</th>\n",
       "      <th>num_classes</th>\n",
       "      <th>selectively_backpropagate</th>\n",
       "      <th>val_alpha</th>\n",
       "      <th>dataset</th>\n",
       "      <th>purpose</th>\n",
       "    </tr>\n",
       "  </thead>\n",
       "  <tbody>\n",
       "    <tr>\n",
       "      <th>0</th>\n",
       "      <td>594.0</td>\n",
       "      <td>1.0</td>\n",
       "      <td>2024-08-10 19:58:30.322</td>\n",
       "      <td>training</td>\n",
       "      <td>Train Dataset Size</td>\n",
       "      <td>CITL-111</td>\n",
       "      <td>['efficientnet-b0', 'complete', 'Method', 'Cit...</td>\n",
       "      <td>0.1</td>\n",
       "      <td>False</td>\n",
       "      <td>0.0005</td>\n",
       "      <td>plateau</td>\n",
       "      <td>score</td>\n",
       "      <td>20</td>\n",
       "      <td>True</td>\n",
       "      <td>0.1</td>\n",
       "      <td>Cityscapes</td>\n",
       "      <td>Method</td>\n",
       "    </tr>\n",
       "    <tr>\n",
       "      <th>1</th>\n",
       "      <td>1189.0</td>\n",
       "      <td>1.0</td>\n",
       "      <td>2024-08-10 20:01:40.743</td>\n",
       "      <td>training</td>\n",
       "      <td>Train Dataset Size</td>\n",
       "      <td>CITL-111</td>\n",
       "      <td>['efficientnet-b0', 'complete', 'Method', 'Cit...</td>\n",
       "      <td>0.1</td>\n",
       "      <td>False</td>\n",
       "      <td>0.0005</td>\n",
       "      <td>plateau</td>\n",
       "      <td>score</td>\n",
       "      <td>20</td>\n",
       "      <td>True</td>\n",
       "      <td>0.1</td>\n",
       "      <td>Cityscapes</td>\n",
       "      <td>Method</td>\n",
       "    </tr>\n",
       "    <tr>\n",
       "      <th>2</th>\n",
       "      <td>1784.0</td>\n",
       "      <td>1.0</td>\n",
       "      <td>2024-08-10 20:04:51.586</td>\n",
       "      <td>training</td>\n",
       "      <td>Train Dataset Size</td>\n",
       "      <td>CITL-111</td>\n",
       "      <td>['efficientnet-b0', 'complete', 'Method', 'Cit...</td>\n",
       "      <td>0.1</td>\n",
       "      <td>False</td>\n",
       "      <td>0.0005</td>\n",
       "      <td>plateau</td>\n",
       "      <td>score</td>\n",
       "      <td>20</td>\n",
       "      <td>True</td>\n",
       "      <td>0.1</td>\n",
       "      <td>Cityscapes</td>\n",
       "      <td>Method</td>\n",
       "    </tr>\n",
       "    <tr>\n",
       "      <th>3</th>\n",
       "      <td>2379.0</td>\n",
       "      <td>1.0</td>\n",
       "      <td>2024-08-10 20:08:02.505</td>\n",
       "      <td>training</td>\n",
       "      <td>Train Dataset Size</td>\n",
       "      <td>CITL-111</td>\n",
       "      <td>['efficientnet-b0', 'complete', 'Method', 'Cit...</td>\n",
       "      <td>0.1</td>\n",
       "      <td>False</td>\n",
       "      <td>0.0005</td>\n",
       "      <td>plateau</td>\n",
       "      <td>score</td>\n",
       "      <td>20</td>\n",
       "      <td>True</td>\n",
       "      <td>0.1</td>\n",
       "      <td>Cityscapes</td>\n",
       "      <td>Method</td>\n",
       "    </tr>\n",
       "    <tr>\n",
       "      <th>4</th>\n",
       "      <td>2974.0</td>\n",
       "      <td>1.0</td>\n",
       "      <td>2024-08-10 20:11:12.949</td>\n",
       "      <td>training</td>\n",
       "      <td>Train Dataset Size</td>\n",
       "      <td>CITL-111</td>\n",
       "      <td>['efficientnet-b0', 'complete', 'Method', 'Cit...</td>\n",
       "      <td>0.1</td>\n",
       "      <td>False</td>\n",
       "      <td>0.0005</td>\n",
       "      <td>plateau</td>\n",
       "      <td>score</td>\n",
       "      <td>20</td>\n",
       "      <td>True</td>\n",
       "      <td>0.1</td>\n",
       "      <td>Cityscapes</td>\n",
       "      <td>Method</td>\n",
       "    </tr>\n",
       "  </tbody>\n",
       "</table>\n",
       "</div>"
      ],
      "text/plain": [
       "     step  value               timestamp namespace              metric  \\\n",
       "0   594.0    1.0 2024-08-10 19:58:30.322  training  Train Dataset Size   \n",
       "1  1189.0    1.0 2024-08-10 20:01:40.743  training  Train Dataset Size   \n",
       "2  1784.0    1.0 2024-08-10 20:04:51.586  training  Train Dataset Size   \n",
       "3  2379.0    1.0 2024-08-10 20:08:02.505  training  Train Dataset Size   \n",
       "4  2974.0    1.0 2024-08-10 20:11:12.949  training  Train Dataset Size   \n",
       "\n",
       "     run_id                                               tags  alpha  \\\n",
       "0  CITL-111  ['efficientnet-b0', 'complete', 'Method', 'Cit...    0.1   \n",
       "1  CITL-111  ['efficientnet-b0', 'complete', 'Method', 'Cit...    0.1   \n",
       "2  CITL-111  ['efficientnet-b0', 'complete', 'Method', 'Cit...    0.1   \n",
       "3  CITL-111  ['efficientnet-b0', 'complete', 'Method', 'Cit...    0.1   \n",
       "4  CITL-111  ['efficientnet-b0', 'complete', 'Method', 'Cit...    0.1   \n",
       "\n",
       "  control_on_realized      lr lr_method method  num_classes  \\\n",
       "0               False  0.0005   plateau  score           20   \n",
       "1               False  0.0005   plateau  score           20   \n",
       "2               False  0.0005   plateau  score           20   \n",
       "3               False  0.0005   plateau  score           20   \n",
       "4               False  0.0005   plateau  score           20   \n",
       "\n",
       "  selectively_backpropagate  val_alpha     dataset purpose  \n",
       "0                      True        0.1  Cityscapes  Method  \n",
       "1                      True        0.1  Cityscapes  Method  \n",
       "2                      True        0.1  Cityscapes  Method  \n",
       "3                      True        0.1  Cityscapes  Method  \n",
       "4                      True        0.1  Cityscapes  Method  "
      ]
     },
     "execution_count": 17,
     "metadata": {},
     "output_type": "execute_result"
    }
   ],
   "source": [
    "full_df[\"dataset\"] = full_df[\"tags\"].apply(lambda x: get_dataset(x))\n",
    "full_df[\"timestamp\"] = pd.to_datetime(full_df[\"timestamp\"])\n",
    "full_df[\"purpose\"] = full_df[\"tags\"].apply(lambda x: get_purpose(x))\n",
    "\n",
    "standard_trains = full_df[full_df[\"method\"].isna()]\n",
    "citl_trains = full_df[~full_df[\"method\"].isna()]\n",
    "assert len(standard_trains) + len(citl_trains) == len(full_df)\n",
    "\n",
    "full_df.head()"
   ]
  },
  {
   "cell_type": "code",
   "execution_count": null,
   "metadata": {},
   "outputs": [
    {
     "data": {
      "image/png": "[encoded data removed]",
      "text/plain": [
       "<Figure size 640x480 with 1 Axes>"
      ]
     },
     "metadata": {},
     "output_type": "display_data"
    }
   ],
   "source": [
    "### OVERHEAD\n",
    "standard_times = standard_trains.groupby(by=[\"dataset\"]).agg({\"timestamp\": ['max', 'min'], \"step\": \"max\"})\n",
    "standard_times[\"duration\"] = (standard_times[\"timestamp\"][\"max\"] - standard_times[\"timestamp\"][\"min\"]).dt.total_seconds()\n",
    "standard_times[\"steps_per_second\"] = standard_times[\"step\"][\"max\"] / standard_times[\"duration\"]\n",
    "\n",
    "citl_times = citl_trains.groupby(by=[\"run_id\", \"dataset\"]).agg({\"timestamp\": ['max', 'min'], \"step\": \"max\"})\n",
    "citl_times[\"duration\"] = (citl_times[\"timestamp\"][\"max\"] - citl_times[\"timestamp\"][\"min\"]).dt.total_seconds()\n",
    "citl_times[\"steps_per_second\"] = citl_times[\"step\"][\"max\"] / citl_times[\"duration\"]\n",
    "\n",
    "joined_times = pd.merge(standard_times, citl_times, on=\"dataset\", suffixes=(\"_standard\", \"_citl\"))\n",
    "joined_times[\"overhead\"] = (joined_times[\"steps_per_second_standard\"] / joined_times[\"steps_per_second_citl\"]) - 1\n",
    "joined_times = joined_times.reset_index()\n",
    "box_plot = sns.boxplot(data=joined_times, x=\"dataset\", y=\"overhead\")\n",
    "ax = box_plot.axes\n",
    "plt.title(\"CitL Overhead\")\n",
    "plt.ylabel(\"Overhead (%)\")\n",
    "plt.xlabel(None)\n",
    "plt.tight_layout()\n",
    "plt.savefig(f'{image_output_directory}/overhead.png', dpi=300, bbox_inches='tight')\n",
    "\n",
    "joined_times.groupby(by=[\"dataset\"])[\"overhead\"].agg([\"mean\", \"std\", \"min\", \"max\"]).to_latex(f\"{table_output_directory}/overhead.tex\")"
   ]
  },
  {
   "cell_type": "code",
   "execution_count": null,
   "metadata": {},
   "outputs": [],
   "source": [
    "test_metrics = citl_trains[citl_trains[\"metric\"].str.startswith('test_')]\n",
    "\n",
    "baseline_metrics = test_metrics[test_metrics[\"purpose\"] == \"Baseline\"]\n",
    "method_metrics = test_metrics[test_metrics[\"purpose\"] == \"Method\"]"
   ]
  },
  {
   "cell_type": "code",
   "execution_count": null,
   "metadata": {},
   "outputs": [
    {
     "data": {
      "image/png": "[encoded data removed]",
      "text/plain": [
       "<Figure size 640x480 with 1 Axes>"
      ]
     },
     "metadata": {},
     "output_type": "display_data"
    }
   ],
   "source": [
    "baseline_segmentation_metrics = baseline_metrics[baseline_metrics[\"dataset\"] == \"Cityscapes\"]\n",
    "\n",
    "method_segmentation_metrics = method_metrics[method_metrics[\"dataset\"] == \"Cityscapes\"]\n",
    "\n",
    "baseline_segmentation_metrics = baseline_segmentation_metrics.pivot(index=[\"run_id\"], columns=\"metric\", values=[\"value\"])\n",
    "baseline_segmentation_metrics.columns = [col[1] if col[1] else col[0] for col in baseline_segmentation_metrics.columns]\n",
    "\n",
    "method_segmentation_metrics = method_segmentation_metrics.pivot(index=[\"run_id\", \"alpha\", \"dataset\"], columns=\"metric\", values=[\"value\"]).reset_index().sort_values(\"alpha\")\n",
    "method_segmentation_metrics.columns = [col[1] if col[1] else col[0] for col in method_segmentation_metrics.columns ]\n",
    "\n",
    "sns.scatterplot(data=method_segmentation_metrics, x=\"alpha\", y=\"test_jaccard\", hue=\"dataset\")\n",
    "plt.axhline(y=baseline_segmentation_metrics.iloc[0][\"test_jaccard\"], color='b', linestyle=':', linewidth=1)\n",
    "plt.ylabel(\"mIoU\")\n",
    "plt.title(\"Segmentation Performance\")\n",
    "plt.tight_layout()\n",
    "plt.savefig(f'{image_output_directory}/segmentation_performance.png', dpi=300, bbox_inches='tight')\n"
   ]
  },
  {
   "cell_type": "code",
   "execution_count": null,
   "metadata": {},
   "outputs": [
    {
     "ename": "NameError",
     "evalue": "name 'baseline_metrics' is not defined",
     "output_type": "error",
     "traceback": [
      "\u001b[0;31m---------------------------------------------------------------------------\u001b[0m",
      "\u001b[0;31mNameError\u001b[0m                                 Traceback (most recent call last)",
      "Cell \u001b[0;32mIn[1], line 1\u001b[0m\n\u001b[0;32m----> 1\u001b[0m baseline_classification_metrics \u001b[38;5;241m=\u001b[39m \u001b[43mbaseline_metrics\u001b[49m[baseline_metrics[\u001b[38;5;124m\"\u001b[39m\u001b[38;5;124mdataset\u001b[39m\u001b[38;5;124m\"\u001b[39m] \u001b[38;5;241m!=\u001b[39m \u001b[38;5;124m\"\u001b[39m\u001b[38;5;124mCityscapes\u001b[39m\u001b[38;5;124m\"\u001b[39m]\n\u001b[1;32m      2\u001b[0m method_classification_metrics \u001b[38;5;241m=\u001b[39m method_metrics[method_metrics[\u001b[38;5;124m\"\u001b[39m\u001b[38;5;124mdataset\u001b[39m\u001b[38;5;124m\"\u001b[39m] \u001b[38;5;241m!=\u001b[39m \u001b[38;5;124m\"\u001b[39m\u001b[38;5;124mCityscapes\u001b[39m\u001b[38;5;124m\"\u001b[39m]\n\u001b[1;32m      4\u001b[0m method_classification_metrics \u001b[38;5;241m=\u001b[39m method_classification_metrics\u001b[38;5;241m.\u001b[39mpivot(index\u001b[38;5;241m=\u001b[39m[\u001b[38;5;124m\"\u001b[39m\u001b[38;5;124mrun_id\u001b[39m\u001b[38;5;124m\"\u001b[39m, \u001b[38;5;124m\"\u001b[39m\u001b[38;5;124malpha\u001b[39m\u001b[38;5;124m\"\u001b[39m, \u001b[38;5;124m\"\u001b[39m\u001b[38;5;124mdataset\u001b[39m\u001b[38;5;124m\"\u001b[39m], columns\u001b[38;5;241m=\u001b[39m\u001b[38;5;124m\"\u001b[39m\u001b[38;5;124mmetric\u001b[39m\u001b[38;5;124m\"\u001b[39m, values\u001b[38;5;241m=\u001b[39m[\u001b[38;5;124m\"\u001b[39m\u001b[38;5;124mvalue\u001b[39m\u001b[38;5;124m\"\u001b[39m])\u001b[38;5;241m.\u001b[39mreset_index()\u001b[38;5;241m.\u001b[39msort_values(\u001b[38;5;124m\"\u001b[39m\u001b[38;5;124malpha\u001b[39m\u001b[38;5;124m\"\u001b[39m)\n",
      "\u001b[0;31mNameError\u001b[0m: name 'baseline_metrics' is not defined"
     ]
    }
   ],
   "source": [
    "baseline_classification_metrics = baseline_metrics[baseline_metrics[\"dataset\"] != \"Cityscapes\"]\n",
    "method_classification_metrics = method_metrics[method_metrics[\"dataset\"] != \"Cityscapes\"]\n",
    "\n",
    "method_classification_metrics = method_classification_metrics.pivot(index=[\"run_id\", \"alpha\", \"dataset\"], columns=\"metric\", values=[\"value\"]).reset_index().sort_values(\"alpha\")\n",
    "method_classification_metrics.columns = [col[1] if col[1] else col[0] for col in method_classification_metrics.columns ]\n",
    "\n",
    "sns.scatterplot(data=method_classification_metrics, x=\"alpha\", y=\"test_accuracy\", hue=\"dataset\")\n",
    "plt.axhline(y=method_classification_metrics[method_classification_metrics[\"dataset\"] == \"CIFAR10\"].iloc[0][\"test_accuracy\"], color='b', linestyle=':', linewidth=1)\n",
    "plt.axhline(y=method_classification_metrics[method_classification_metrics[\"dataset\"] == \"DFire\"].iloc[0][\"test_accuracy\"], color='orange', linestyle=':', linewidth=1)\n",
    "plt.ylabel(\"Accuracy\")\n",
    "plt.title(\"Classification Performance\")\n",
    "plt.tight_layout()\n",
    "plt.savefig(f'{image_output_directory}/classification_performance.png', dpi=300, bbox_inches='tight')\n"
   ]
  },
  {
   "cell_type": "code",
   "execution_count": null,
   "metadata": {},
   "outputs": [],
   "source": []
  }
 ],
 "metadata": {
  "kernelspec": {
   "display_name": "citl",
   "language": "python",
   "name": "python3"
  },
  "language_info": {
   "codemirror_mode": {
    "name": "ipython",
    "version": 3
   },
   "file_extension": ".py",
   "mimetype": "text/x-python",
   "name": "python",
   "nbconvert_exporter": "python",
   "pygments_lexer": "ipython3",
   "version": "3.12.4"
  }
 },
 "nbformat": 4,
 "nbformat_minor": 2
}
